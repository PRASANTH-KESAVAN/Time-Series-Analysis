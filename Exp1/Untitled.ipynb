{
 "cells": [
  {
   "cell_type": "markdown",
   "id": "408789ed-7aae-416f-8ac6-66563b8ef155",
   "metadata": {},
   "source": [
    "# importing libraries"
   ]
  },
  {
   "cell_type": "code",
   "execution_count": 2,
   "id": "0f4ed09b-9bb8-4067-a596-36d14e69afe6",
   "metadata": {},
   "outputs": [],
   "source": [
    "import pandas as pd\n",
    "import numpy as np\n",
    "import seaborn as sns\n",
    "import matplotlib.pyplot as plt"
   ]
  },
  {
   "cell_type": "code",
   "execution_count": null,
   "id": "f223bbac-ac3c-4b7e-84c3-4b82606f7646",
   "metadata": {},
   "outputs": [],
   "source": []
  },
  {
   "cell_type": "code",
   "execution_count": null,
   "id": "10db2117-e6f2-442c-a1de-57bdd71e0c32",
   "metadata": {},
   "outputs": [],
   "source": []
  },
  {
   "cell_type": "code",
   "execution_count": 4,
   "id": "0d0315cb-3215-4678-9ebb-8cec974b928d",
   "metadata": {},
   "outputs": [],
   "source": [
    "df = pd.read_csv(\"expense_data_1.csv\")"
   ]
  },
  {
   "cell_type": "markdown",
   "id": "fd6190f2-9a61-4a78-8f8f-273fcc437485",
   "metadata": {},
   "source": [
    "# start"
   ]
  },
  {
   "cell_type": "code",
   "execution_count": 7,
   "id": "56a63ae3-89ec-4ab9-8962-d887367dd7cc",
   "metadata": {},
   "outputs": [
    {
     "data": {
      "text/html": [
       "<div>\n",
       "<style scoped>\n",
       "    .dataframe tbody tr th:only-of-type {\n",
       "        vertical-align: middle;\n",
       "    }\n",
       "\n",
       "    .dataframe tbody tr th {\n",
       "        vertical-align: top;\n",
       "    }\n",
       "\n",
       "    .dataframe thead th {\n",
       "        text-align: right;\n",
       "    }\n",
       "</style>\n",
       "<table border=\"1\" class=\"dataframe\">\n",
       "  <thead>\n",
       "    <tr style=\"text-align: right;\">\n",
       "      <th></th>\n",
       "      <th>Date</th>\n",
       "      <th>Account</th>\n",
       "      <th>Category</th>\n",
       "      <th>Subcategory</th>\n",
       "      <th>Note</th>\n",
       "      <th>INR</th>\n",
       "      <th>Income/Expense</th>\n",
       "      <th>Note.1</th>\n",
       "      <th>Amount</th>\n",
       "      <th>Currency</th>\n",
       "      <th>Account.1</th>\n",
       "    </tr>\n",
       "  </thead>\n",
       "  <tbody>\n",
       "    <tr>\n",
       "      <th>0</th>\n",
       "      <td>3/2/2022 10:11</td>\n",
       "      <td>CUB - online payment</td>\n",
       "      <td>Food</td>\n",
       "      <td>NaN</td>\n",
       "      <td>Brownie</td>\n",
       "      <td>50.0</td>\n",
       "      <td>Expense</td>\n",
       "      <td>NaN</td>\n",
       "      <td>50.0</td>\n",
       "      <td>INR</td>\n",
       "      <td>50.0</td>\n",
       "    </tr>\n",
       "    <tr>\n",
       "      <th>1</th>\n",
       "      <td>3/2/2022 10:11</td>\n",
       "      <td>CUB - online payment</td>\n",
       "      <td>Other</td>\n",
       "      <td>NaN</td>\n",
       "      <td>To lended people</td>\n",
       "      <td>300.0</td>\n",
       "      <td>Expense</td>\n",
       "      <td>NaN</td>\n",
       "      <td>300.0</td>\n",
       "      <td>INR</td>\n",
       "      <td>300.0</td>\n",
       "    </tr>\n",
       "    <tr>\n",
       "      <th>2</th>\n",
       "      <td>3/1/2022 19:50</td>\n",
       "      <td>CUB - online payment</td>\n",
       "      <td>Food</td>\n",
       "      <td>NaN</td>\n",
       "      <td>Dinner</td>\n",
       "      <td>78.0</td>\n",
       "      <td>Expense</td>\n",
       "      <td>NaN</td>\n",
       "      <td>78.0</td>\n",
       "      <td>INR</td>\n",
       "      <td>78.0</td>\n",
       "    </tr>\n",
       "    <tr>\n",
       "      <th>3</th>\n",
       "      <td>3/1/2022 18:56</td>\n",
       "      <td>CUB - online payment</td>\n",
       "      <td>Transportation</td>\n",
       "      <td>NaN</td>\n",
       "      <td>Metro</td>\n",
       "      <td>30.0</td>\n",
       "      <td>Expense</td>\n",
       "      <td>NaN</td>\n",
       "      <td>30.0</td>\n",
       "      <td>INR</td>\n",
       "      <td>30.0</td>\n",
       "    </tr>\n",
       "    <tr>\n",
       "      <th>4</th>\n",
       "      <td>3/1/2022 18:22</td>\n",
       "      <td>CUB - online payment</td>\n",
       "      <td>Food</td>\n",
       "      <td>NaN</td>\n",
       "      <td>Snacks</td>\n",
       "      <td>67.0</td>\n",
       "      <td>Expense</td>\n",
       "      <td>NaN</td>\n",
       "      <td>67.0</td>\n",
       "      <td>INR</td>\n",
       "      <td>67.0</td>\n",
       "    </tr>\n",
       "  </tbody>\n",
       "</table>\n",
       "</div>"
      ],
      "text/plain": [
       "             Date               Account        Category  Subcategory  \\\n",
       "0  3/2/2022 10:11  CUB - online payment            Food          NaN   \n",
       "1  3/2/2022 10:11  CUB - online payment           Other          NaN   \n",
       "2  3/1/2022 19:50  CUB - online payment            Food          NaN   \n",
       "3  3/1/2022 18:56  CUB - online payment  Transportation          NaN   \n",
       "4  3/1/2022 18:22  CUB - online payment            Food          NaN   \n",
       "\n",
       "               Note    INR Income/Expense  Note.1  Amount Currency  Account.1  \n",
       "0           Brownie   50.0        Expense     NaN    50.0      INR       50.0  \n",
       "1  To lended people  300.0        Expense     NaN   300.0      INR      300.0  \n",
       "2            Dinner   78.0        Expense     NaN    78.0      INR       78.0  \n",
       "3             Metro   30.0        Expense     NaN    30.0      INR       30.0  \n",
       "4            Snacks   67.0        Expense     NaN    67.0      INR       67.0  "
      ]
     },
     "execution_count": 7,
     "metadata": {},
     "output_type": "execute_result"
    }
   ],
   "source": [
    "df.head()"
   ]
  },
  {
   "cell_type": "code",
   "execution_count": 9,
   "id": "a051245e-6e4b-4779-b6d9-9402b5ac66ee",
   "metadata": {},
   "outputs": [
    {
     "data": {
      "text/html": [
       "<div>\n",
       "<style scoped>\n",
       "    .dataframe tbody tr th:only-of-type {\n",
       "        vertical-align: middle;\n",
       "    }\n",
       "\n",
       "    .dataframe tbody tr th {\n",
       "        vertical-align: top;\n",
       "    }\n",
       "\n",
       "    .dataframe thead th {\n",
       "        text-align: right;\n",
       "    }\n",
       "</style>\n",
       "<table border=\"1\" class=\"dataframe\">\n",
       "  <thead>\n",
       "    <tr style=\"text-align: right;\">\n",
       "      <th></th>\n",
       "      <th>Date</th>\n",
       "      <th>Account</th>\n",
       "      <th>Category</th>\n",
       "      <th>Subcategory</th>\n",
       "      <th>Note</th>\n",
       "      <th>INR</th>\n",
       "      <th>Income/Expense</th>\n",
       "      <th>Note.1</th>\n",
       "      <th>Amount</th>\n",
       "      <th>Currency</th>\n",
       "      <th>Account.1</th>\n",
       "    </tr>\n",
       "  </thead>\n",
       "  <tbody>\n",
       "    <tr>\n",
       "      <th>0</th>\n",
       "      <td>3/2/2022 10:11</td>\n",
       "      <td>CUB - online payment</td>\n",
       "      <td>Food</td>\n",
       "      <td>NaN</td>\n",
       "      <td>Brownie</td>\n",
       "      <td>50.0</td>\n",
       "      <td>Expense</td>\n",
       "      <td>NaN</td>\n",
       "      <td>50.0</td>\n",
       "      <td>INR</td>\n",
       "      <td>50.0</td>\n",
       "    </tr>\n",
       "    <tr>\n",
       "      <th>1</th>\n",
       "      <td>3/2/2022 10:11</td>\n",
       "      <td>CUB - online payment</td>\n",
       "      <td>Other</td>\n",
       "      <td>NaN</td>\n",
       "      <td>To lended people</td>\n",
       "      <td>300.0</td>\n",
       "      <td>Expense</td>\n",
       "      <td>NaN</td>\n",
       "      <td>300.0</td>\n",
       "      <td>INR</td>\n",
       "      <td>300.0</td>\n",
       "    </tr>\n",
       "    <tr>\n",
       "      <th>2</th>\n",
       "      <td>3/1/2022 19:50</td>\n",
       "      <td>CUB - online payment</td>\n",
       "      <td>Food</td>\n",
       "      <td>NaN</td>\n",
       "      <td>Dinner</td>\n",
       "      <td>78.0</td>\n",
       "      <td>Expense</td>\n",
       "      <td>NaN</td>\n",
       "      <td>78.0</td>\n",
       "      <td>INR</td>\n",
       "      <td>78.0</td>\n",
       "    </tr>\n",
       "    <tr>\n",
       "      <th>3</th>\n",
       "      <td>3/1/2022 18:56</td>\n",
       "      <td>CUB - online payment</td>\n",
       "      <td>Transportation</td>\n",
       "      <td>NaN</td>\n",
       "      <td>Metro</td>\n",
       "      <td>30.0</td>\n",
       "      <td>Expense</td>\n",
       "      <td>NaN</td>\n",
       "      <td>30.0</td>\n",
       "      <td>INR</td>\n",
       "      <td>30.0</td>\n",
       "    </tr>\n",
       "    <tr>\n",
       "      <th>4</th>\n",
       "      <td>3/1/2022 18:22</td>\n",
       "      <td>CUB - online payment</td>\n",
       "      <td>Food</td>\n",
       "      <td>NaN</td>\n",
       "      <td>Snacks</td>\n",
       "      <td>67.0</td>\n",
       "      <td>Expense</td>\n",
       "      <td>NaN</td>\n",
       "      <td>67.0</td>\n",
       "      <td>INR</td>\n",
       "      <td>67.0</td>\n",
       "    </tr>\n",
       "    <tr>\n",
       "      <th>...</th>\n",
       "      <td>...</td>\n",
       "      <td>...</td>\n",
       "      <td>...</td>\n",
       "      <td>...</td>\n",
       "      <td>...</td>\n",
       "      <td>...</td>\n",
       "      <td>...</td>\n",
       "      <td>...</td>\n",
       "      <td>...</td>\n",
       "      <td>...</td>\n",
       "      <td>...</td>\n",
       "    </tr>\n",
       "    <tr>\n",
       "      <th>272</th>\n",
       "      <td>11/22/2021 14:16</td>\n",
       "      <td>CUB - online payment</td>\n",
       "      <td>Food</td>\n",
       "      <td>NaN</td>\n",
       "      <td>Dinner</td>\n",
       "      <td>90.0</td>\n",
       "      <td>Expense</td>\n",
       "      <td>NaN</td>\n",
       "      <td>90.0</td>\n",
       "      <td>INR</td>\n",
       "      <td>90.0</td>\n",
       "    </tr>\n",
       "    <tr>\n",
       "      <th>273</th>\n",
       "      <td>11/22/2021 14:16</td>\n",
       "      <td>CUB - online payment</td>\n",
       "      <td>Food</td>\n",
       "      <td>NaN</td>\n",
       "      <td>Lunch with company</td>\n",
       "      <td>97.0</td>\n",
       "      <td>Expense</td>\n",
       "      <td>NaN</td>\n",
       "      <td>97.0</td>\n",
       "      <td>INR</td>\n",
       "      <td>97.0</td>\n",
       "    </tr>\n",
       "    <tr>\n",
       "      <th>274</th>\n",
       "      <td>11/21/2021 17:07</td>\n",
       "      <td>CUB - online payment</td>\n",
       "      <td>Transportation</td>\n",
       "      <td>NaN</td>\n",
       "      <td>Rapido</td>\n",
       "      <td>130.0</td>\n",
       "      <td>Expense</td>\n",
       "      <td>NaN</td>\n",
       "      <td>130.0</td>\n",
       "      <td>INR</td>\n",
       "      <td>130.0</td>\n",
       "    </tr>\n",
       "    <tr>\n",
       "      <th>275</th>\n",
       "      <td>11/21/2021 15:50</td>\n",
       "      <td>CUB - online payment</td>\n",
       "      <td>Food</td>\n",
       "      <td>NaN</td>\n",
       "      <td>Lunch</td>\n",
       "      <td>875.0</td>\n",
       "      <td>Expense</td>\n",
       "      <td>NaN</td>\n",
       "      <td>875.0</td>\n",
       "      <td>INR</td>\n",
       "      <td>875.0</td>\n",
       "    </tr>\n",
       "    <tr>\n",
       "      <th>276</th>\n",
       "      <td>11/21/2021 13:30</td>\n",
       "      <td>CUB - online payment</td>\n",
       "      <td>Other</td>\n",
       "      <td>NaN</td>\n",
       "      <td>Got from gobi</td>\n",
       "      <td>2000.0</td>\n",
       "      <td>Income</td>\n",
       "      <td>NaN</td>\n",
       "      <td>2000.0</td>\n",
       "      <td>INR</td>\n",
       "      <td>2000.0</td>\n",
       "    </tr>\n",
       "  </tbody>\n",
       "</table>\n",
       "<p>277 rows × 11 columns</p>\n",
       "</div>"
      ],
      "text/plain": [
       "                 Date               Account        Category  Subcategory  \\\n",
       "0      3/2/2022 10:11  CUB - online payment            Food          NaN   \n",
       "1      3/2/2022 10:11  CUB - online payment           Other          NaN   \n",
       "2      3/1/2022 19:50  CUB - online payment            Food          NaN   \n",
       "3      3/1/2022 18:56  CUB - online payment  Transportation          NaN   \n",
       "4      3/1/2022 18:22  CUB - online payment            Food          NaN   \n",
       "..                ...                   ...             ...          ...   \n",
       "272  11/22/2021 14:16  CUB - online payment            Food          NaN   \n",
       "273  11/22/2021 14:16  CUB - online payment            Food          NaN   \n",
       "274  11/21/2021 17:07  CUB - online payment  Transportation          NaN   \n",
       "275  11/21/2021 15:50  CUB - online payment            Food          NaN   \n",
       "276  11/21/2021 13:30  CUB - online payment           Other          NaN   \n",
       "\n",
       "                   Note     INR Income/Expense  Note.1  Amount Currency  \\\n",
       "0               Brownie    50.0        Expense     NaN    50.0      INR   \n",
       "1      To lended people   300.0        Expense     NaN   300.0      INR   \n",
       "2                Dinner    78.0        Expense     NaN    78.0      INR   \n",
       "3                 Metro    30.0        Expense     NaN    30.0      INR   \n",
       "4                Snacks    67.0        Expense     NaN    67.0      INR   \n",
       "..                  ...     ...            ...     ...     ...      ...   \n",
       "272              Dinner    90.0        Expense     NaN    90.0      INR   \n",
       "273  Lunch with company    97.0        Expense     NaN    97.0      INR   \n",
       "274              Rapido   130.0        Expense     NaN   130.0      INR   \n",
       "275               Lunch   875.0        Expense     NaN   875.0      INR   \n",
       "276       Got from gobi  2000.0         Income     NaN  2000.0      INR   \n",
       "\n",
       "     Account.1  \n",
       "0         50.0  \n",
       "1        300.0  \n",
       "2         78.0  \n",
       "3         30.0  \n",
       "4         67.0  \n",
       "..         ...  \n",
       "272       90.0  \n",
       "273       97.0  \n",
       "274      130.0  \n",
       "275      875.0  \n",
       "276     2000.0  \n",
       "\n",
       "[277 rows x 11 columns]"
      ]
     },
     "execution_count": 9,
     "metadata": {},
     "output_type": "execute_result"
    }
   ],
   "source": [
    "df.drop_duplicates()"
   ]
  },
  {
   "cell_type": "code",
   "execution_count": 11,
   "id": "ae5affcb-8310-4588-8e1f-30ccc6f07303",
   "metadata": {},
   "outputs": [
    {
     "data": {
      "text/plain": [
       "Date                0\n",
       "Account             0\n",
       "Category            0\n",
       "Subcategory       277\n",
       "Note                4\n",
       "INR                 0\n",
       "Income/Expense      0\n",
       "Note.1            277\n",
       "Amount              0\n",
       "Currency            0\n",
       "Account.1           0\n",
       "dtype: int64"
      ]
     },
     "execution_count": 11,
     "metadata": {},
     "output_type": "execute_result"
    }
   ],
   "source": [
    "df.isna().sum()"
   ]
  },
  {
   "cell_type": "code",
   "execution_count": 13,
   "id": "19aa307b-e066-4f60-a406-06636765e41d",
   "metadata": {},
   "outputs": [],
   "source": [
    "df.drop([\"Subcategory\", \"Note.1\"], axis=1,inplace=True)"
   ]
  },
  {
   "cell_type": "code",
   "execution_count": 15,
   "id": "3ec49395-9da9-4e6d-b0f0-655afff675e7",
   "metadata": {},
   "outputs": [
    {
     "data": {
      "text/html": [
       "<div>\n",
       "<style scoped>\n",
       "    .dataframe tbody tr th:only-of-type {\n",
       "        vertical-align: middle;\n",
       "    }\n",
       "\n",
       "    .dataframe tbody tr th {\n",
       "        vertical-align: top;\n",
       "    }\n",
       "\n",
       "    .dataframe thead th {\n",
       "        text-align: right;\n",
       "    }\n",
       "</style>\n",
       "<table border=\"1\" class=\"dataframe\">\n",
       "  <thead>\n",
       "    <tr style=\"text-align: right;\">\n",
       "      <th></th>\n",
       "      <th>Date</th>\n",
       "      <th>Account</th>\n",
       "      <th>Category</th>\n",
       "      <th>Note</th>\n",
       "      <th>INR</th>\n",
       "      <th>Income/Expense</th>\n",
       "      <th>Amount</th>\n",
       "      <th>Currency</th>\n",
       "      <th>Account.1</th>\n",
       "    </tr>\n",
       "  </thead>\n",
       "  <tbody>\n",
       "    <tr>\n",
       "      <th>0</th>\n",
       "      <td>3/2/2022 10:11</td>\n",
       "      <td>CUB - online payment</td>\n",
       "      <td>Food</td>\n",
       "      <td>Brownie</td>\n",
       "      <td>50.0</td>\n",
       "      <td>Expense</td>\n",
       "      <td>50.0</td>\n",
       "      <td>INR</td>\n",
       "      <td>50.0</td>\n",
       "    </tr>\n",
       "    <tr>\n",
       "      <th>1</th>\n",
       "      <td>3/2/2022 10:11</td>\n",
       "      <td>CUB - online payment</td>\n",
       "      <td>Other</td>\n",
       "      <td>To lended people</td>\n",
       "      <td>300.0</td>\n",
       "      <td>Expense</td>\n",
       "      <td>300.0</td>\n",
       "      <td>INR</td>\n",
       "      <td>300.0</td>\n",
       "    </tr>\n",
       "    <tr>\n",
       "      <th>2</th>\n",
       "      <td>3/1/2022 19:50</td>\n",
       "      <td>CUB - online payment</td>\n",
       "      <td>Food</td>\n",
       "      <td>Dinner</td>\n",
       "      <td>78.0</td>\n",
       "      <td>Expense</td>\n",
       "      <td>78.0</td>\n",
       "      <td>INR</td>\n",
       "      <td>78.0</td>\n",
       "    </tr>\n",
       "    <tr>\n",
       "      <th>3</th>\n",
       "      <td>3/1/2022 18:56</td>\n",
       "      <td>CUB - online payment</td>\n",
       "      <td>Transportation</td>\n",
       "      <td>Metro</td>\n",
       "      <td>30.0</td>\n",
       "      <td>Expense</td>\n",
       "      <td>30.0</td>\n",
       "      <td>INR</td>\n",
       "      <td>30.0</td>\n",
       "    </tr>\n",
       "    <tr>\n",
       "      <th>4</th>\n",
       "      <td>3/1/2022 18:22</td>\n",
       "      <td>CUB - online payment</td>\n",
       "      <td>Food</td>\n",
       "      <td>Snacks</td>\n",
       "      <td>67.0</td>\n",
       "      <td>Expense</td>\n",
       "      <td>67.0</td>\n",
       "      <td>INR</td>\n",
       "      <td>67.0</td>\n",
       "    </tr>\n",
       "  </tbody>\n",
       "</table>\n",
       "</div>"
      ],
      "text/plain": [
       "             Date               Account        Category              Note  \\\n",
       "0  3/2/2022 10:11  CUB - online payment            Food           Brownie   \n",
       "1  3/2/2022 10:11  CUB - online payment           Other  To lended people   \n",
       "2  3/1/2022 19:50  CUB - online payment            Food            Dinner   \n",
       "3  3/1/2022 18:56  CUB - online payment  Transportation             Metro   \n",
       "4  3/1/2022 18:22  CUB - online payment            Food            Snacks   \n",
       "\n",
       "     INR Income/Expense  Amount Currency  Account.1  \n",
       "0   50.0        Expense    50.0      INR       50.0  \n",
       "1  300.0        Expense   300.0      INR      300.0  \n",
       "2   78.0        Expense    78.0      INR       78.0  \n",
       "3   30.0        Expense    30.0      INR       30.0  \n",
       "4   67.0        Expense    67.0      INR       67.0  "
      ]
     },
     "execution_count": 15,
     "metadata": {},
     "output_type": "execute_result"
    }
   ],
   "source": [
    "df.head()"
   ]
  },
  {
   "cell_type": "code",
   "execution_count": 17,
   "id": "c9628a86-3f51-4d16-bbab-8a59ede0722c",
   "metadata": {},
   "outputs": [
    {
     "data": {
      "text/html": [
       "<div>\n",
       "<style scoped>\n",
       "    .dataframe tbody tr th:only-of-type {\n",
       "        vertical-align: middle;\n",
       "    }\n",
       "\n",
       "    .dataframe tbody tr th {\n",
       "        vertical-align: top;\n",
       "    }\n",
       "\n",
       "    .dataframe thead th {\n",
       "        text-align: right;\n",
       "    }\n",
       "</style>\n",
       "<table border=\"1\" class=\"dataframe\">\n",
       "  <thead>\n",
       "    <tr style=\"text-align: right;\">\n",
       "      <th></th>\n",
       "      <th>INR</th>\n",
       "      <th>Amount</th>\n",
       "      <th>Account.1</th>\n",
       "    </tr>\n",
       "  </thead>\n",
       "  <tbody>\n",
       "    <tr>\n",
       "      <th>count</th>\n",
       "      <td>277.000000</td>\n",
       "      <td>277.000000</td>\n",
       "      <td>277.000000</td>\n",
       "    </tr>\n",
       "    <tr>\n",
       "      <th>mean</th>\n",
       "      <td>410.750903</td>\n",
       "      <td>406.759134</td>\n",
       "      <td>406.759134</td>\n",
       "    </tr>\n",
       "    <tr>\n",
       "      <th>std</th>\n",
       "      <td>1065.756569</td>\n",
       "      <td>1065.158318</td>\n",
       "      <td>1065.158318</td>\n",
       "    </tr>\n",
       "    <tr>\n",
       "      <th>min</th>\n",
       "      <td>3.000000</td>\n",
       "      <td>3.000000</td>\n",
       "      <td>3.000000</td>\n",
       "    </tr>\n",
       "    <tr>\n",
       "      <th>25%</th>\n",
       "      <td>50.000000</td>\n",
       "      <td>50.000000</td>\n",
       "      <td>50.000000</td>\n",
       "    </tr>\n",
       "    <tr>\n",
       "      <th>50%</th>\n",
       "      <td>128.000000</td>\n",
       "      <td>125.000000</td>\n",
       "      <td>125.000000</td>\n",
       "    </tr>\n",
       "    <tr>\n",
       "      <th>75%</th>\n",
       "      <td>301.150000</td>\n",
       "      <td>300.000000</td>\n",
       "      <td>300.000000</td>\n",
       "    </tr>\n",
       "    <tr>\n",
       "      <th>max</th>\n",
       "      <td>10000.000000</td>\n",
       "      <td>10000.000000</td>\n",
       "      <td>10000.000000</td>\n",
       "    </tr>\n",
       "  </tbody>\n",
       "</table>\n",
       "</div>"
      ],
      "text/plain": [
       "                INR        Amount     Account.1\n",
       "count    277.000000    277.000000    277.000000\n",
       "mean     410.750903    406.759134    406.759134\n",
       "std     1065.756569   1065.158318   1065.158318\n",
       "min        3.000000      3.000000      3.000000\n",
       "25%       50.000000     50.000000     50.000000\n",
       "50%      128.000000    125.000000    125.000000\n",
       "75%      301.150000    300.000000    300.000000\n",
       "max    10000.000000  10000.000000  10000.000000"
      ]
     },
     "execution_count": 17,
     "metadata": {},
     "output_type": "execute_result"
    }
   ],
   "source": [
    "df.describe()"
   ]
  },
  {
   "cell_type": "code",
   "execution_count": 19,
   "id": "6f40c194-e1f9-4394-a60d-5df254d3f607",
   "metadata": {},
   "outputs": [
    {
     "name": "stdout",
     "output_type": "stream",
     "text": [
      "<class 'pandas.core.frame.DataFrame'>\n",
      "RangeIndex: 277 entries, 0 to 276\n",
      "Data columns (total 9 columns):\n",
      " #   Column          Non-Null Count  Dtype  \n",
      "---  ------          --------------  -----  \n",
      " 0   Date            277 non-null    object \n",
      " 1   Account         277 non-null    object \n",
      " 2   Category        277 non-null    object \n",
      " 3   Note            273 non-null    object \n",
      " 4   INR             277 non-null    float64\n",
      " 5   Income/Expense  277 non-null    object \n",
      " 6   Amount          277 non-null    float64\n",
      " 7   Currency        277 non-null    object \n",
      " 8   Account.1       277 non-null    float64\n",
      "dtypes: float64(3), object(6)\n",
      "memory usage: 19.6+ KB\n"
     ]
    }
   ],
   "source": [
    "df.info()"
   ]
  },
  {
   "cell_type": "code",
   "execution_count": 21,
   "id": "242c06a6-9288-409c-8d63-48688e705606",
   "metadata": {},
   "outputs": [],
   "source": [
    "df['time']= df['Date'].str.split(\" \").str[1]\n",
    "df['Date']= df['Date'].str.split(\" \").str[0]"
   ]
  },
  {
   "cell_type": "code",
   "execution_count": 23,
   "id": "0c5276f1-11fa-498f-9360-750a46754c56",
   "metadata": {},
   "outputs": [
    {
     "data": {
      "text/html": [
       "<div>\n",
       "<style scoped>\n",
       "    .dataframe tbody tr th:only-of-type {\n",
       "        vertical-align: middle;\n",
       "    }\n",
       "\n",
       "    .dataframe tbody tr th {\n",
       "        vertical-align: top;\n",
       "    }\n",
       "\n",
       "    .dataframe thead th {\n",
       "        text-align: right;\n",
       "    }\n",
       "</style>\n",
       "<table border=\"1\" class=\"dataframe\">\n",
       "  <thead>\n",
       "    <tr style=\"text-align: right;\">\n",
       "      <th></th>\n",
       "      <th>Date</th>\n",
       "      <th>Account</th>\n",
       "      <th>Category</th>\n",
       "      <th>Note</th>\n",
       "      <th>INR</th>\n",
       "      <th>Income/Expense</th>\n",
       "      <th>Amount</th>\n",
       "      <th>Currency</th>\n",
       "      <th>Account.1</th>\n",
       "      <th>time</th>\n",
       "    </tr>\n",
       "  </thead>\n",
       "  <tbody>\n",
       "    <tr>\n",
       "      <th>0</th>\n",
       "      <td>3/2/2022</td>\n",
       "      <td>CUB - online payment</td>\n",
       "      <td>Food</td>\n",
       "      <td>Brownie</td>\n",
       "      <td>50.0</td>\n",
       "      <td>Expense</td>\n",
       "      <td>50.0</td>\n",
       "      <td>INR</td>\n",
       "      <td>50.0</td>\n",
       "      <td>10:11</td>\n",
       "    </tr>\n",
       "    <tr>\n",
       "      <th>1</th>\n",
       "      <td>3/2/2022</td>\n",
       "      <td>CUB - online payment</td>\n",
       "      <td>Other</td>\n",
       "      <td>To lended people</td>\n",
       "      <td>300.0</td>\n",
       "      <td>Expense</td>\n",
       "      <td>300.0</td>\n",
       "      <td>INR</td>\n",
       "      <td>300.0</td>\n",
       "      <td>10:11</td>\n",
       "    </tr>\n",
       "    <tr>\n",
       "      <th>2</th>\n",
       "      <td>3/1/2022</td>\n",
       "      <td>CUB - online payment</td>\n",
       "      <td>Food</td>\n",
       "      <td>Dinner</td>\n",
       "      <td>78.0</td>\n",
       "      <td>Expense</td>\n",
       "      <td>78.0</td>\n",
       "      <td>INR</td>\n",
       "      <td>78.0</td>\n",
       "      <td>19:50</td>\n",
       "    </tr>\n",
       "    <tr>\n",
       "      <th>3</th>\n",
       "      <td>3/1/2022</td>\n",
       "      <td>CUB - online payment</td>\n",
       "      <td>Transportation</td>\n",
       "      <td>Metro</td>\n",
       "      <td>30.0</td>\n",
       "      <td>Expense</td>\n",
       "      <td>30.0</td>\n",
       "      <td>INR</td>\n",
       "      <td>30.0</td>\n",
       "      <td>18:56</td>\n",
       "    </tr>\n",
       "    <tr>\n",
       "      <th>4</th>\n",
       "      <td>3/1/2022</td>\n",
       "      <td>CUB - online payment</td>\n",
       "      <td>Food</td>\n",
       "      <td>Snacks</td>\n",
       "      <td>67.0</td>\n",
       "      <td>Expense</td>\n",
       "      <td>67.0</td>\n",
       "      <td>INR</td>\n",
       "      <td>67.0</td>\n",
       "      <td>18:22</td>\n",
       "    </tr>\n",
       "  </tbody>\n",
       "</table>\n",
       "</div>"
      ],
      "text/plain": [
       "       Date               Account        Category              Note    INR  \\\n",
       "0  3/2/2022  CUB - online payment            Food           Brownie   50.0   \n",
       "1  3/2/2022  CUB - online payment           Other  To lended people  300.0   \n",
       "2  3/1/2022  CUB - online payment            Food            Dinner   78.0   \n",
       "3  3/1/2022  CUB - online payment  Transportation             Metro   30.0   \n",
       "4  3/1/2022  CUB - online payment            Food            Snacks   67.0   \n",
       "\n",
       "  Income/Expense  Amount Currency  Account.1   time  \n",
       "0        Expense    50.0      INR       50.0  10:11  \n",
       "1        Expense   300.0      INR      300.0  10:11  \n",
       "2        Expense    78.0      INR       78.0  19:50  \n",
       "3        Expense    30.0      INR       30.0  18:56  \n",
       "4        Expense    67.0      INR       67.0  18:22  "
      ]
     },
     "execution_count": 23,
     "metadata": {},
     "output_type": "execute_result"
    }
   ],
   "source": [
    "df.head()"
   ]
  },
  {
   "cell_type": "code",
   "execution_count": 25,
   "id": "93726447-1dc2-415e-a0b5-52c336693ccd",
   "metadata": {},
   "outputs": [
    {
     "data": {
      "text/plain": [
       "array(['INR', 'USD'], dtype=object)"
      ]
     },
     "execution_count": 25,
     "metadata": {},
     "output_type": "execute_result"
    }
   ],
   "source": [
    "df['Currency'].unique()"
   ]
  },
  {
   "cell_type": "code",
   "execution_count": 27,
   "id": "41a45c08-a624-4a8a-aac4-f244e76dd135",
   "metadata": {},
   "outputs": [],
   "source": [
    "df['Amount'] = df.apply(lambda row: row['Amount'] * 93 if row['Currency'] == 'USD' else row['Amount'], axis=1)"
   ]
  },
  {
   "cell_type": "code",
   "execution_count": 29,
   "id": "bf52448e-0b75-4ade-9db6-af1f1ad08e37",
   "metadata": {},
   "outputs": [],
   "source": [
    "df.drop(['Currency', 'Account.1'], axis=1, inplace=True)"
   ]
  },
  {
   "cell_type": "code",
   "execution_count": 31,
   "id": "c10712e7-53fb-4b76-98c6-3b0c10a1aae9",
   "metadata": {},
   "outputs": [
    {
     "data": {
      "text/html": [
       "<div>\n",
       "<style scoped>\n",
       "    .dataframe tbody tr th:only-of-type {\n",
       "        vertical-align: middle;\n",
       "    }\n",
       "\n",
       "    .dataframe tbody tr th {\n",
       "        vertical-align: top;\n",
       "    }\n",
       "\n",
       "    .dataframe thead th {\n",
       "        text-align: right;\n",
       "    }\n",
       "</style>\n",
       "<table border=\"1\" class=\"dataframe\">\n",
       "  <thead>\n",
       "    <tr style=\"text-align: right;\">\n",
       "      <th></th>\n",
       "      <th>Date</th>\n",
       "      <th>Account</th>\n",
       "      <th>Category</th>\n",
       "      <th>Note</th>\n",
       "      <th>INR</th>\n",
       "      <th>Income/Expense</th>\n",
       "      <th>Amount</th>\n",
       "      <th>time</th>\n",
       "    </tr>\n",
       "  </thead>\n",
       "  <tbody>\n",
       "    <tr>\n",
       "      <th>0</th>\n",
       "      <td>3/2/2022</td>\n",
       "      <td>CUB - online payment</td>\n",
       "      <td>Food</td>\n",
       "      <td>Brownie</td>\n",
       "      <td>50.0</td>\n",
       "      <td>Expense</td>\n",
       "      <td>50.0</td>\n",
       "      <td>10:11</td>\n",
       "    </tr>\n",
       "    <tr>\n",
       "      <th>1</th>\n",
       "      <td>3/2/2022</td>\n",
       "      <td>CUB - online payment</td>\n",
       "      <td>Other</td>\n",
       "      <td>To lended people</td>\n",
       "      <td>300.0</td>\n",
       "      <td>Expense</td>\n",
       "      <td>300.0</td>\n",
       "      <td>10:11</td>\n",
       "    </tr>\n",
       "    <tr>\n",
       "      <th>2</th>\n",
       "      <td>3/1/2022</td>\n",
       "      <td>CUB - online payment</td>\n",
       "      <td>Food</td>\n",
       "      <td>Dinner</td>\n",
       "      <td>78.0</td>\n",
       "      <td>Expense</td>\n",
       "      <td>78.0</td>\n",
       "      <td>19:50</td>\n",
       "    </tr>\n",
       "    <tr>\n",
       "      <th>3</th>\n",
       "      <td>3/1/2022</td>\n",
       "      <td>CUB - online payment</td>\n",
       "      <td>Transportation</td>\n",
       "      <td>Metro</td>\n",
       "      <td>30.0</td>\n",
       "      <td>Expense</td>\n",
       "      <td>30.0</td>\n",
       "      <td>18:56</td>\n",
       "    </tr>\n",
       "    <tr>\n",
       "      <th>4</th>\n",
       "      <td>3/1/2022</td>\n",
       "      <td>CUB - online payment</td>\n",
       "      <td>Food</td>\n",
       "      <td>Snacks</td>\n",
       "      <td>67.0</td>\n",
       "      <td>Expense</td>\n",
       "      <td>67.0</td>\n",
       "      <td>18:22</td>\n",
       "    </tr>\n",
       "  </tbody>\n",
       "</table>\n",
       "</div>"
      ],
      "text/plain": [
       "       Date               Account        Category              Note    INR  \\\n",
       "0  3/2/2022  CUB - online payment            Food           Brownie   50.0   \n",
       "1  3/2/2022  CUB - online payment           Other  To lended people  300.0   \n",
       "2  3/1/2022  CUB - online payment            Food            Dinner   78.0   \n",
       "3  3/1/2022  CUB - online payment  Transportation             Metro   30.0   \n",
       "4  3/1/2022  CUB - online payment            Food            Snacks   67.0   \n",
       "\n",
       "  Income/Expense  Amount   time  \n",
       "0        Expense    50.0  10:11  \n",
       "1        Expense   300.0  10:11  \n",
       "2        Expense    78.0  19:50  \n",
       "3        Expense    30.0  18:56  \n",
       "4        Expense    67.0  18:22  "
      ]
     },
     "execution_count": 31,
     "metadata": {},
     "output_type": "execute_result"
    }
   ],
   "source": [
    "df.head()"
   ]
  },
  {
   "cell_type": "code",
   "execution_count": 33,
   "id": "f2e711f2-935a-4aa2-b235-5f1d1c05824a",
   "metadata": {},
   "outputs": [
    {
     "data": {
      "text/plain": [
       "array(['Food', 'Other', 'Transportation', 'Social Life', 'Household',\n",
       "       'Apparel', 'Education', 'Salary', 'Allowance', 'Self-development',\n",
       "       'Beauty', 'Gift', 'Petty cash'], dtype=object)"
      ]
     },
     "execution_count": 33,
     "metadata": {},
     "output_type": "execute_result"
    }
   ],
   "source": [
    "df['Category'].unique()"
   ]
  },
  {
   "cell_type": "code",
   "execution_count": 25,
   "id": "63a322a9-b884-4463-a71b-9d7a5684e49c",
   "metadata": {},
   "outputs": [
    {
     "data": {
      "text/plain": [
       "array(['CUB - online payment', 'Cash'], dtype=object)"
      ]
     },
     "execution_count": 25,
     "metadata": {},
     "output_type": "execute_result"
    }
   ],
   "source": [
    "df['Account'].unique()"
   ]
  },
  {
   "cell_type": "code",
   "execution_count": 27,
   "id": "1b1856bc-7c00-41fe-a88f-92aa4ed8112e",
   "metadata": {},
   "outputs": [],
   "source": [
    "df['Account'] = df.apply(lambda row: 'online' if row['Account'] == 'CUB - online payment' else row['Account'], axis=1)"
   ]
  },
  {
   "cell_type": "code",
   "execution_count": 29,
   "id": "941e1273-4171-4b47-b622-40f5660795ea",
   "metadata": {},
   "outputs": [
    {
     "data": {
      "text/plain": [
       "array(['online', 'Cash'], dtype=object)"
      ]
     },
     "execution_count": 29,
     "metadata": {},
     "output_type": "execute_result"
    }
   ],
   "source": [
    "df['Account'].unique()"
   ]
  },
  {
   "cell_type": "code",
   "execution_count": 31,
   "id": "fa559486-263b-4d91-9e6f-00f17f6dc453",
   "metadata": {
    "scrolled": true
   },
   "outputs": [
    {
     "data": {
      "text/plain": [
       "<Axes: xlabel='Category', ylabel='Amount'>"
      ]
     },
     "execution_count": 31,
     "metadata": {},
     "output_type": "execute_result"
    },
    {
     "data": {
      "image/png": "[encoded data removed]",
      "text/plain": [
       "<Figure size 1600x1800 with 1 Axes>"
      ]
     },
     "metadata": {},
     "output_type": "display_data"
    }
   ],
   "source": [
    "plt.figure(figsize=(16,18))\n",
    "sns.barplot(data=df, x='Category', y= 'Amount')\n"
   ]
  },
  {
   "cell_type": "code",
   "execution_count": 38,
   "id": "a32743fd-9c94-43c0-815c-7a692e98b23e",
   "metadata": {},
   "outputs": [
    {
     "data": {
      "text/plain": [
       "<Axes: xlabel='count', ylabel='Income/Expense'>"
      ]
     },
     "execution_count": 38,
     "metadata": {},
     "output_type": "execute_result"
    },
    {
     "data": {
      "image/png": "[encoded data removed]",
      "text/plain": [
       "<Figure size 640x480 with 1 Axes>"
      ]
     },
     "metadata": {},
     "output_type": "display_data"
    }
   ],
   "source": [
    "sns.countplot(df['Income/Expense'])"
   ]
  },
  {
   "cell_type": "code",
   "execution_count": 39,
   "id": "b777b4ea-4481-4355-ac77-7e6ec10c8c39",
   "metadata": {},
   "outputs": [
    {
     "data": {
      "text/plain": [
       "<BarContainer object of 277 artists>"
      ]
     },
     "execution_count": 39,
     "metadata": {},
     "output_type": "execute_result"
    },
    {
     "data": {
      "image/png": "[encoded data removed]",
      "text/plain": [
       "<Figure size 1800x2000 with 1 Axes>"
      ]
     },
     "metadata": {},
     "output_type": "display_data"
    }
   ],
   "source": [
    "plt.figure(figsize=(18,20))\n",
    "plt.bar(df['Category'], df['Income/Expense'])"
   ]
  },
  {
   "cell_type": "code",
   "execution_count": null,
   "id": "3dfa457d-a371-4a6b-81fe-9eba37b28c62",
   "metadata": {},
   "outputs": [],
   "source": []
  }
 ],
 "metadata": {
  "kernelspec": {
   "display_name": "Python 3 (ipykernel)",
   "language": "python",
   "name": "python3"
  },
  "language_info": {
   "codemirror_mode": {
    "name": "ipython",
    "version": 3
   },
   "file_extension": ".py",
   "mimetype": "text/x-python",
   "name": "python",
   "nbconvert_exporter": "python",
   "pygments_lexer": "ipython3",
   "version": "3.11.7"
  }
 },
 "nbformat": 4,
 "nbformat_minor": 5
}
